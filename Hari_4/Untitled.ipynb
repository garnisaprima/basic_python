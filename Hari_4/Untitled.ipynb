{
 "cells": [
  {
   "cell_type": "code",
   "execution_count": 3,
   "metadata": {},
   "outputs": [
    {
     "name": "stdout",
     "output_type": "stream",
     "text": [
      "************Welcome to FakeFlix Demo**************\n",
      "\n",
      "\n",
      "                      A: Please Register\n",
      "                      B: Login\n",
      "                      Q: Logout\n",
      "\n",
      "                      Please enter your choice: d\n",
      "You must only select either A or B\n",
      "Please try again\n",
      "************Welcome to FakeFlix Demo**************\n",
      "\n",
      "\n",
      "                      A: Please Register\n",
      "                      B: Login\n",
      "                      Q: Logout\n",
      "\n",
      "                      Please enter your choice: a\n"
     ]
    }
   ],
   "source": [
    "import csv\n",
    "import sys\n",
    "\n",
    "def main():\n",
    "   menu()\n",
    "\n",
    "\n",
    "def menu():\n",
    "    print(\"************Welcome to FakeFlix Demo**************\")\n",
    "    print()\n",
    "\n",
    "    choice = input(\"\"\"\n",
    "                      A: Please Register\n",
    "                      B: Login\n",
    "                      Q: Logout\n",
    "\n",
    "                      Please enter your choice: \"\"\")\n",
    "\n",
    "    if choice == \"A\" or choice ==\"a\":\n",
    "        register()\n",
    "    elif choice == \"B\" or choice ==\"b\":\n",
    "        login()\n",
    "    elif choice==\"Q\" or choice==\"q\":\n",
    "        sys.exit\n",
    "    else:\n",
    "        print(\"You must only select either A or B\")\n",
    "        print(\"Please try again\")\n",
    "        menu()\n",
    "\n",
    "def register():\n",
    "   pass\n",
    "    \n",
    "def login():\n",
    "   pass\n",
    "    \n",
    "#the program is initiated, so to speak, here\n",
    "main()"
   ]
  },
  {
   "cell_type": "code",
   "execution_count": null,
   "metadata": {},
   "outputs": [],
   "source": []
  },
  {
   "cell_type": "code",
   "execution_count": null,
   "metadata": {},
   "outputs": [],
   "source": []
  },
  {
   "cell_type": "code",
   "execution_count": null,
   "metadata": {},
   "outputs": [],
   "source": []
  },
  {
   "cell_type": "code",
   "execution_count": null,
   "metadata": {},
   "outputs": [],
   "source": []
  }
 ],
 "metadata": {
  "kernelspec": {
   "display_name": "Python 3",
   "language": "python",
   "name": "python3"
  },
  "language_info": {
   "codemirror_mode": {
    "name": "ipython",
    "version": 3
   },
   "file_extension": ".py",
   "mimetype": "text/x-python",
   "name": "python",
   "nbconvert_exporter": "python",
   "pygments_lexer": "ipython3",
   "version": "3.8.3"
  }
 },
 "nbformat": 4,
 "nbformat_minor": 4
}
