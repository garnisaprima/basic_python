{
 "cells": [
  {
   "cell_type": "code",
   "execution_count": 7,
   "metadata": {},
   "outputs": [
    {
     "ename": "NameError",
     "evalue": "name 'bot' is not defined",
     "output_type": "error",
     "traceback": [
      "\u001b[1;31m---------------------------------------------------------------------------\u001b[0m",
      "\u001b[1;31mNameError\u001b[0m                                 Traceback (most recent call last)",
      "\u001b[1;32m<ipython-input-7-d700facf81bd>\u001b[0m in \u001b[0;36m<module>\u001b[1;34m\u001b[0m\n\u001b[1;32m----> 1\u001b[1;33m \u001b[0mtrainer\u001b[0m \u001b[1;33m=\u001b[0m \u001b[1;33m(\u001b[0m\u001b[0mbot\u001b[0m\u001b[1;33m)\u001b[0m\u001b[1;33m\u001b[0m\u001b[1;33m\u001b[0m\u001b[0m\n\u001b[0m\u001b[0;32m      2\u001b[0m \u001b[1;33m\u001b[0m\u001b[0m\n\u001b[0;32m      3\u001b[0m trainer.train([\n\u001b[0;32m      4\u001b[0m \u001b[1;34m'Hi'\u001b[0m\u001b[1;33m,\u001b[0m\u001b[1;33m\u001b[0m\u001b[1;33m\u001b[0m\u001b[0m\n\u001b[0;32m      5\u001b[0m \u001b[1;34m'Hello'\u001b[0m\u001b[1;33m,\u001b[0m\u001b[1;33m\u001b[0m\u001b[1;33m\u001b[0m\u001b[0m\n",
      "\u001b[1;31mNameError\u001b[0m: name 'bot' is not defined"
     ]
    }
   ],
   "source": [
    "\n",
    "\n",
    "trainer = (bot)\n",
    "\n",
    "trainer.train([\n",
    "'Hi',\n",
    "'Hello',\n",
    "'I need your assistance regarding my order',\n",
    "'Please, Provide me with your order id',\n",
    "'I have a complaint.',\n",
    "'Please elaborate, your concern',\n",
    "'How long it will take to receive an order ?',\n",
    "'An order takes 3-5 Business days to get delivered.',\n",
    "'Okay Thanks',\n",
    "'No Problem! Have a Good Day!'\n",
    "])\n",
    "response = bot.get_response('I have a complaint.')\n",
    "\n",
    "print(\"Bot Response:\", response)\n",
    "\n",
    "name=input(\"Enter Your Name: \")\n",
    "print(\"Welcome to the Bot Service! Let me know how can I help you?\")\n",
    "while True:\n",
    "    request=input(name+':')\n",
    "    if request=='Bye' or request =='bye':\n",
    "        print('Bot: Bye')\n",
    "        break\n",
    "    else:\n",
    "        response=bot.get_response(request)\n",
    "        print('Bot:',response)"
   ]
  },
  {
   "cell_type": "code",
   "execution_count": null,
   "metadata": {},
   "outputs": [],
   "source": []
  }
 ],
 "metadata": {
  "kernelspec": {
   "display_name": "Python 3",
   "language": "python",
   "name": "python3"
  },
  "language_info": {
   "codemirror_mode": {
    "name": "ipython",
    "version": 3
   },
   "file_extension": ".py",
   "mimetype": "text/x-python",
   "name": "python",
   "nbconvert_exporter": "python",
   "pygments_lexer": "ipython3",
   "version": "3.8.3"
  }
 },
 "nbformat": 4,
 "nbformat_minor": 4
}
