{
 "cells": [
  {
   "cell_type": "code",
   "execution_count": 1,
   "metadata": {},
   "outputs": [
    {
     "data": {
      "text/plain": [
       "['13b', 'aa1', 1.32, 22.1]"
      ]
     },
     "execution_count": 1,
     "metadata": {},
     "output_type": "execute_result"
    }
   ],
   "source": [
    "a= ['1', '13b', 'aa1', 1.32,22.1, 2.34]\n",
    "\n",
    "#ngambil komponen 1 sampe sebelum 5\n",
    "#slicing list\n",
    "\n",
    "a[1:5]"
   ]
  },
  {
   "cell_type": "code",
   "execution_count": 5,
   "metadata": {},
   "outputs": [
    {
     "data": {
      "text/plain": [
       "[[1.32, 22.1, 2.34], ['1', '13b', 'aa1'], [3, 40, 100]]"
      ]
     },
     "execution_count": 5,
     "metadata": {},
     "output_type": "execute_result"
    }
   ],
   "source": [
    "#nested list\n",
    "\n",
    "a = [1.32,22.1, 2.34]\n",
    "b = ['1', '13b', 'aa1']\n",
    "c = [3, 40, 100]\n",
    "#combine list\n",
    "\n",
    "d = [a, b, c]\n",
    "d\n"
   ]
  },
  {
   "cell_type": "code",
   "execution_count": 6,
   "metadata": {},
   "outputs": [
    {
     "data": {
      "text/plain": [
       "[0, 6]"
      ]
     },
     "execution_count": 6,
     "metadata": {},
     "output_type": "execute_result"
    }
   ],
   "source": [
    "#akses nested list\n",
    "a = [\n",
    "    [5,9,8],\n",
    "    [0,0,6]\n",
    "    ]\n",
    "#subsetting list\n",
    "a[1][1:] #baris 2, kolom ke 2 sampe terakhir"
   ]
  },
  {
   "cell_type": "code",
   "execution_count": 7,
   "metadata": {},
   "outputs": [
    {
     "data": {
      "text/plain": [
       "[5, 9, 8]"
      ]
     },
     "execution_count": 7,
     "metadata": {},
     "output_type": "execute_result"
    }
   ],
   "source": [
    "a[0]"
   ]
  },
  {
   "cell_type": "code",
   "execution_count": 8,
   "metadata": {},
   "outputs": [
    {
     "data": {
      "text/plain": [
       "8"
      ]
     },
     "execution_count": 8,
     "metadata": {},
     "output_type": "execute_result"
    }
   ],
   "source": [
    "a[0][2]"
   ]
  },
  {
   "cell_type": "code",
   "execution_count": 9,
   "metadata": {},
   "outputs": [
    {
     "name": "stdout",
     "output_type": "stream",
     "text": [
      "[0, 2, 4, 5, 9, 10]\n",
      "0\n"
     ]
    }
   ],
   "source": [
    "#built in function list\n",
    "\n",
    "p = [0,5,2,10,4,9]\n",
    "\n",
    "print(sorted(p, reverse=False))\n",
    "print(min(p)) #bisa max"
   ]
  },
  {
   "cell_type": "code",
   "execution_count": 10,
   "metadata": {},
   "outputs": [
    {
     "name": "stdout",
     "output_type": "stream",
     "text": [
      "[10, 9, 5, 4, 2, 0]\n"
     ]
    }
   ],
   "source": [
    "print(sorted(p, reverse=True))"
   ]
  },
  {
   "cell_type": "code",
   "execution_count": 11,
   "metadata": {},
   "outputs": [
    {
     "data": {
      "text/plain": [
       "[5, 1, 3, 1, 3, 5]"
      ]
     },
     "execution_count": 11,
     "metadata": {},
     "output_type": "execute_result"
    }
   ],
   "source": [
    "#list operation\n",
    "a = [1,3,5]\n",
    "b = [5,1,3]\n",
    "b+a"
   ]
  },
  {
   "cell_type": "code",
   "execution_count": 13,
   "metadata": {},
   "outputs": [
    {
     "name": "stdout",
     "output_type": "stream",
     "text": [
      "[[5, 9, 10], [11, 0, 6]]\n"
     ]
    }
   ],
   "source": [
    "#List Manipulation\n",
    "a =[\n",
    "    [5,9,8],\n",
    "    [0,0,6]\n",
    "    ]\n",
    "a[0][2]=10\n",
    "a[1][0]=11\n",
    "print(a)"
   ]
  },
  {
   "cell_type": "code",
   "execution_count": 15,
   "metadata": {},
   "outputs": [
    {
     "name": "stdout",
     "output_type": "stream",
     "text": [
      "[0, 4, 16, 36, 64]\n",
      "[1, 2, 4, 6, 2, 1, 4, 5, 7, 8, 6]\n",
      "[1, 2, 4, 5, 6, 7, 8]\n"
     ]
    }
   ],
   "source": [
    "#list comprehension\n",
    "#mencsri yang genap\n",
    "\n",
    "s = [0,1,4,9,16,25,36,49,64,81]\n",
    "t = [i for i in s if i%2==0]\n",
    "\n",
    "print(t)\n",
    "\n",
    "obj_list = [1, 2, 4, 6, 2, 1, 4, 5, 7, 8, 6] \n",
    "\n",
    "#solusi tanpa menggunakan set\n",
    "def remove_duplicate(obj_list):\n",
    "    new_list = []\n",
    "    for i in obj_list:\n",
    "        new_list.append(i)\n",
    "    return new_list\n",
    "\n",
    "#solusi dengan menggunakan set\n",
    "def remove_duplicate_with_set(obj_list):\n",
    "    new_list = list(set(obj_list))\n",
    "    return new_list\n",
    "\n",
    "\n",
    "print(remove_duplicate(obj_list))\n",
    "print(remove_duplicate_with_set(obj_list))"
   ]
  },
  {
   "cell_type": "code",
   "execution_count": 16,
   "metadata": {},
   "outputs": [
    {
     "name": "stdout",
     "output_type": "stream",
     "text": [
      "['1', '2', '4', '6', '2', '1', '4', '5', '7', '8', '6']\n",
      "['6', '4', '2', '1', '5', '8', '7']\n"
     ]
    }
   ],
   "source": [
    "#string\n",
    "obj_list = [\"1\", \"2\", \"4\", \"6\", \"2\", \"1\", \"4\", \"5\", \"7\", \"8\", \"6\"]\n",
    "\n",
    "#solusi tanpa menggunakan set\n",
    "def remove_duplicate(obj_list):\n",
    "    new_list = []\n",
    "    for i in obj_list:\n",
    "        new_list.append(i)\n",
    "    return new_list\n",
    "\n",
    "#solusi dengan menggunakan set\n",
    "def remove_duplicate_with_set(obj_list):\n",
    "    new_list = list(set(obj_list))\n",
    "    return new_list\n",
    "\n",
    "\n",
    "print(remove_duplicate(obj_list))\n",
    "print(remove_duplicate_with_set(obj_list))"
   ]
  },
  {
   "cell_type": "code",
   "execution_count": 17,
   "metadata": {},
   "outputs": [
    {
     "name": "stdout",
     "output_type": "stream",
     "text": [
      "['1', '2', '4', '6', 2, '1', '4', '5', '7', '8', '6']\n",
      "['6', 2, '4', '2', '1', '5', '8', '7']\n"
     ]
    }
   ],
   "source": [
    "#string integer\n",
    "\n",
    "#string\n",
    "obj_list = [\"1\", \"2\", \"4\", \"6\", 2, \"1\", \"4\", \"5\", \"7\", \"8\", \"6\"]\n",
    "\n",
    "#solusi tanpa menggunakan set\n",
    "def remove_duplicate(obj_list):\n",
    "    new_list = []\n",
    "    for i in obj_list:\n",
    "        new_list.append(i)\n",
    "    return new_list\n",
    "\n",
    "#solusi dengan menggunakan set\n",
    "def remove_duplicate_with_set(obj_list):\n",
    "    new_list = list(set(obj_list))\n",
    "    return new_list\n",
    "\n",
    "\n",
    "print(remove_duplicate(obj_list))\n",
    "print(remove_duplicate_with_set(obj_list))"
   ]
  },
  {
   "cell_type": "code",
   "execution_count": 19,
   "metadata": {},
   "outputs": [
    {
     "name": "stdout",
     "output_type": "stream",
     "text": [
      "80.02\n",
      "{'spain': {'capital': 'madrid', 'population': 46.77}, 'france': {'capital': 'paris', 'population': 66.03}, 'germany': {'capital': 'berlin', 'population': 80.02}, 'indonesia': {'capital': 'jakarta', 'population': 250}}\n"
     ]
    }
   ],
   "source": [
    "#nested dictionary, ada key dan value\n",
    "\n",
    "country = {\n",
    "            'spain': {'capital':'madrid', 'population':46.77},\n",
    "            'france':{'capital' : 'paris', 'population': 66.03},\n",
    "            'germany':{'capital' : 'berlin', 'population': 80.02}\n",
    "}\n",
    "\n",
    "#brp populasi dr ibu kota german?\n",
    "print(country['germany']['population'])\n",
    "\n",
    "#update data baru, yaitunegara indonesia capital jakarta dan populasi 250\n",
    "country['indonesia']={'capital':'jakarta', 'population':250}\n",
    "\n",
    "print(country)\n"
   ]
  },
  {
   "cell_type": "code",
   "execution_count": null,
   "metadata": {},
   "outputs": [],
   "source": [
    "#"
   ]
  },
  {
   "cell_type": "code",
   "execution_count": null,
   "metadata": {},
   "outputs": [],
   "source": []
  },
  {
   "cell_type": "code",
   "execution_count": null,
   "metadata": {},
   "outputs": [],
   "source": []
  },
  {
   "cell_type": "code",
   "execution_count": null,
   "metadata": {},
   "outputs": [],
   "source": []
  },
  {
   "cell_type": "code",
   "execution_count": null,
   "metadata": {},
   "outputs": [],
   "source": []
  },
  {
   "cell_type": "code",
   "execution_count": null,
   "metadata": {},
   "outputs": [],
   "source": []
  },
  {
   "cell_type": "code",
   "execution_count": null,
   "metadata": {},
   "outputs": [],
   "source": []
  }
 ],
 "metadata": {
  "kernelspec": {
   "display_name": "Python 3",
   "language": "python",
   "name": "python3"
  },
  "language_info": {
   "codemirror_mode": {
    "name": "ipython",
    "version": 3
   },
   "file_extension": ".py",
   "mimetype": "text/x-python",
   "name": "python",
   "nbconvert_exporter": "python",
   "pygments_lexer": "ipython3",
   "version": "3.8.3"
  }
 },
 "nbformat": 4,
 "nbformat_minor": 4
}
