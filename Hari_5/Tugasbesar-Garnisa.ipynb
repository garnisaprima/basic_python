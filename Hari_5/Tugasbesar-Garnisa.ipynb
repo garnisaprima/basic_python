{
 "cells": [
  {
   "cell_type": "markdown",
   "metadata": {},
   "source": [
    "## Tomo"
   ]
  },
  {
   "cell_type": "code",
   "execution_count": null,
   "metadata": {},
   "outputs": [
    {
     "name": "stdout",
     "output_type": "stream",
     "text": [
      "Tue Dec  1 02:01:37 2020\n",
      "\n",
      "Halo,\n",
      "---Menu---\n",
      "\n",
      "1. Kalkulator\n",
      "2. Buat Catatan\n",
      "3. Teman Ngobrol\n",
      "\n",
      "Pilih menu: 2\n",
      "\n",
      "\n",
      "Masukkan catatan: ini catatan ketiga\n",
      "--Catatan kamu sekarang--\n",
      "Buat catatatan\n",
      "Catat\n",
      "ini catatan ketiga\n",
      "\n",
      "\n",
      "\n",
      "---Catatan Selesai Dibuat---\n",
      "\n",
      "\n",
      "---Menu---\n",
      "\n",
      "1. Kalkulator\n",
      "2. Buat Catatan\n",
      "3. Teman Ngobrol\n",
      "\n"
     ]
    }
   ],
   "source": [
    "import datetime\n",
    "import random\n",
    "import math\n",
    "import os\n",
    "\n",
    "#tanggal\n",
    "waktu = datetime.datetime.now()\n",
    "print(waktu.strftime(\"%c\"))\n",
    "print(\"\")\n",
    "\n",
    "print(\"Halo, saya Tomo, Teman virtualmu seputar saham!\")\n",
    "#menu utama\n",
    "def menu():\n",
    "    print(\"---Menu---\")\n",
    "    print(\"\")\n",
    "    print(\"1. Kalkulator Deviden\")\n",
    "    print(\"2. Buat Catatan Sahammu\")\n",
    "    print(\"3. Pertanyaan Seputar Saham\")\n",
    "    print(\"\")\n",
    "    \n",
    "    pilihan = input(\"Pilih menu: \")\n",
    "    \n",
    "    print(\"\")\n",
    "    \n",
    "    if pilihan == \"1\":\n",
    "        kalkulator()\n",
    "    elif pilihan == \"2\":\n",
    "        notes()\n",
    "    elif pilihan == \"3\":\n",
    "        print(\"Program selesai, sampai jumpa!\")\n",
    "        exit()\n",
    "    else:\n",
    "        print(\"\")\n",
    "        print(\"Menu tidak tersedia\")\n",
    "        print(\"\")\n",
    "        menu()\n",
    "    return\n",
    "\n",
    "#menu kalkulator\n",
    "def kalkulator():\n",
    "    print(\"Program kalkulator sederhana untuk menghitung deviden yang didapat!\") \n",
    "    # fungsi penjumlahan\n",
    "    def jumlah(x, y):\n",
    "        return x + y\n",
    "\n",
    "    # fungsi pengurangan\n",
    "    def kurang(x, y):\n",
    "        return x - y\n",
    "\n",
    "    # fungsi perkalian\n",
    "    def kali(x, y):\n",
    "        return x * y\n",
    "\n",
    "    # fungsi pembagian\n",
    "    def bagi(x, y):\n",
    "        return x / y\n",
    "    \n",
    "    #fungsi pangkat\n",
    "    def pangkat(x, y):\n",
    "        return pow(x,y)\n",
    "    \n",
    "    #fungsi akar\n",
    "    def akar(x):\n",
    "        return math.sqrt(x)\n",
    "    print(\"\")\n",
    "    \n",
    "    # menu operasi\n",
    "    print(\"Pilih Operasi.\")\n",
    "    print(\"1.Jumlah\")\n",
    "    print(\"2.Kurang\")\n",
    "    print(\"3.Kali\")\n",
    "    print(\"4.Bagi\")\n",
    "    print(\"5.Pangkat\")\n",
    "    print(\"6.Akar\")\n",
    "\n",
    "    # Meminta input dari user\n",
    "    pilih = int(input(\"Masukkan pilihan(1/2/3/4): \"))\n",
    "    print(\"\")\n",
    "    \n",
    "    angka1 = float(input(\"Masukkan bilangan pertama: \"))\n",
    "    \n",
    "    if pilih == 1:\n",
    "        angka2 = float(input(\"Masukkan bilangan kedua: \"))\n",
    "        print(angka1,\" + \",angka2,\" = \", jumlah(angka1,angka2))\n",
    "    elif pilih == 2:\n",
    "        angka2 = float(input(\"Masukkan bilangan kedua: \"))\n",
    "        print(angka1,\" - \",angka2,\" = \", kurang(angka1,angka2))\n",
    "    elif pilih == 3:\n",
    "        angka2 = float(input(\"Masukkan bilangan kedua: \"))\n",
    "        print(angka1,\" * \",angka2,\" = \", kali(angka1,angka2))\n",
    "    elif pilih == 4:\n",
    "        angka2 = float(input(\"Masukkan bilangan kedua: \"))\n",
    "        print(angka1,\" / \",angka2,\" = \", bagi(angka1,angka2))\n",
    "    elif pilih == 5:\n",
    "        angka2 = float(input(\"Masukkan bilangan kedua: \"))\n",
    "        print(angka1,\" ^ \",angka2,\" = \", pangkat(angka1,angka2))\n",
    "    elif pilih == 6:\n",
    "        print(\"(\",angka1,\")\",\"^0.5\",\" = \", akar(angka1))\n",
    "    else:\n",
    "        menu()\n",
    "    \n",
    "    print(\"\")\n",
    "    print(\"\")\n",
    "    \n",
    "    menu()\n",
    "    return\n",
    "\n",
    "#menu Buat Catatan\n",
    "def notes():\n",
    "    fwrite = open(\"catatan.txt\", \"a\")\n",
    "    n = print(\"\")\n",
    "    catat = str(input(\"Masukkan catatan: \"))\n",
    "    fwrite.write(catat + '\\n\\n')\n",
    "    \n",
    "    fwrite.close()\n",
    "    \n",
    "    print(\"--Catatan kamu sekarang--\")\n",
    "    f = open(\"catatan.txt\", \"r\")\n",
    "    print(f.read())\n",
    "    print(\"\")\n",
    "    print(\"---Catatan Selesai Dibuat---\"+'\\n\\n')\n",
    "    menu()\n",
    "menu()"
   ]
  },
  {
   "cell_type": "code",
   "execution_count": null,
   "metadata": {},
   "outputs": [],
   "source": []
  },
  {
   "cell_type": "code",
   "execution_count": null,
   "metadata": {},
   "outputs": [],
   "source": []
  },
  {
   "cell_type": "code",
   "execution_count": null,
   "metadata": {},
   "outputs": [],
   "source": []
  },
  {
   "cell_type": "code",
   "execution_count": null,
   "metadata": {},
   "outputs": [],
   "source": []
  },
  {
   "cell_type": "code",
   "execution_count": null,
   "metadata": {},
   "outputs": [],
   "source": []
  },
  {
   "cell_type": "code",
   "execution_count": null,
   "metadata": {},
   "outputs": [],
   "source": []
  },
  {
   "cell_type": "code",
   "execution_count": null,
   "metadata": {},
   "outputs": [],
   "source": []
  },
  {
   "cell_type": "code",
   "execution_count": null,
   "metadata": {},
   "outputs": [],
   "source": []
  },
  {
   "cell_type": "code",
   "execution_count": null,
   "metadata": {},
   "outputs": [],
   "source": []
  },
  {
   "cell_type": "code",
   "execution_count": null,
   "metadata": {},
   "outputs": [],
   "source": []
  },
  {
   "cell_type": "code",
   "execution_count": null,
   "metadata": {},
   "outputs": [],
   "source": []
  },
  {
   "cell_type": "code",
   "execution_count": null,
   "metadata": {},
   "outputs": [],
   "source": []
  },
  {
   "cell_type": "code",
   "execution_count": null,
   "metadata": {},
   "outputs": [],
   "source": []
  },
  {
   "cell_type": "code",
   "execution_count": null,
   "metadata": {},
   "outputs": [],
   "source": []
  },
  {
   "cell_type": "code",
   "execution_count": null,
   "metadata": {},
   "outputs": [],
   "source": []
  },
  {
   "cell_type": "code",
   "execution_count": null,
   "metadata": {},
   "outputs": [],
   "source": []
  },
  {
   "cell_type": "code",
   "execution_count": null,
   "metadata": {},
   "outputs": [],
   "source": []
  },
  {
   "cell_type": "code",
   "execution_count": null,
   "metadata": {},
   "outputs": [],
   "source": []
  },
  {
   "cell_type": "code",
   "execution_count": null,
   "metadata": {},
   "outputs": [],
   "source": []
  },
  {
   "cell_type": "code",
   "execution_count": null,
   "metadata": {},
   "outputs": [],
   "source": []
  },
  {
   "cell_type": "code",
   "execution_count": null,
   "metadata": {},
   "outputs": [],
   "source": []
  },
  {
   "cell_type": "code",
   "execution_count": null,
   "metadata": {},
   "outputs": [],
   "source": []
  }
 ],
 "metadata": {
  "kernelspec": {
   "display_name": "Python 3",
   "language": "python",
   "name": "python3"
  },
  "language_info": {
   "codemirror_mode": {
    "name": "ipython",
    "version": 3
   },
   "file_extension": ".py",
   "mimetype": "text/x-python",
   "name": "python",
   "nbconvert_exporter": "python",
   "pygments_lexer": "ipython3",
   "version": "3.8.3"
  }
 },
 "nbformat": 4,
 "nbformat_minor": 4
}
