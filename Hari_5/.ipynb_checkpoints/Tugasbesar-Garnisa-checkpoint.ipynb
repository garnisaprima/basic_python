{
 "cells": [
  {
   "cell_type": "markdown",
   "metadata": {},
   "source": [
    "## Tomo"
   ]
  },
  {
   "cell_type": "code",
   "execution_count": 1,
   "metadata": {},
   "outputs": [
    {
     "ename": "SyntaxError",
     "evalue": "invalid syntax (<ipython-input-1-f1e9c7b5743e>, line 59)",
     "output_type": "error",
     "traceback": [
      "\u001b[1;36m  File \u001b[1;32m\"<ipython-input-1-f1e9c7b5743e>\"\u001b[1;36m, line \u001b[1;32m59\u001b[0m\n\u001b[1;33m    def pangkat(pow(x, y)):\u001b[0m\n\u001b[1;37m                   ^\u001b[0m\n\u001b[1;31mSyntaxError\u001b[0m\u001b[1;31m:\u001b[0m invalid syntax\n"
     ]
    }
   ],
   "source": [
    "import datetime\n",
    "import random\n",
    "import math\n",
    "import os\n",
    "\n",
    "#tanggal\n",
    "x = datetime.datetime.now()\n",
    "print(x.strftime(\"%c\"))\n",
    "print(\"\")\n",
    "\n",
    "print(\"Halo,\")\n",
    "#menu utama\n",
    "def menu():\n",
    "    print(\"---Menu---\")\n",
    "    print(\"\")\n",
    "    print(\"1. Kalkulator\")\n",
    "    print(\"2. Notes\")\n",
    "    print(\"3. Teman Ngobrol\")\n",
    "    print(\"\")\n",
    "    \n",
    "    pilihan = input(\"Pilih menu: \")\n",
    "    \n",
    "    print(\"\")\n",
    "    \n",
    "    if pilihan == \"1\":\n",
    "        kalkulator()\n",
    "    elif pilihan == \"2\":\n",
    "        tambahkontak()\n",
    "    elif pilihan == \"3\":\n",
    "        print(\"Program selesai, sampai jumpa!\")\n",
    "        exit()\n",
    "    else:\n",
    "        print(\"\")\n",
    "        print(\"Menu tidak tersedia\")\n",
    "        print(\"\")\n",
    "        menu()\n",
    "    return\n",
    "\n",
    "#menu kalkulator\n",
    "def kalkulator():\n",
    "    print(\"Program kalkulator sederhana untuk menjumlah, mengurang, mengali, dan membagi bilangan\") \n",
    "    # fungsi penjumlahan\n",
    "    def jumlah(x, y):\n",
    "        return x + y\n",
    "\n",
    "    # fungsi pengurangan\n",
    "    def kurang(x, y):\n",
    "        return x - y\n",
    "\n",
    "    # fungsi perkalian\n",
    "    def kali(x, y):\n",
    "        return x * y\n",
    "\n",
    "    # fungsi pembagian\n",
    "    def bagi(x, y):\n",
    "        return x / y\n",
    "    \n",
    "    #fungsi pangkat\n",
    "    def pangkat(x, y):\n",
    "        return pow(x,y)\n",
    "    print(\"\")\n",
    "    \n",
    "    # menu operasi\n",
    "    print(\"Pilih Operasi.\")\n",
    "    print(\"1.Jumlah\")\n",
    "    print(\"2.Kurang\")\n",
    "    print(\"3.Kali\")\n",
    "    print(\"4.Bagi\")\n",
    "    print(\"5.Pangkat\")\n",
    "\n",
    "    # Meminta input dari user\n",
    "    pilih = int(input(\"Masukkan pilihan(1/2/3/4): \"))\n",
    "    print(\"\")\n",
    "    \n",
    "    angka1 = float(input(\"Masukkan bilangan pertama: \"))\n",
    "    angka2 = float(input(\"Masukkan bilangan kedua: \"))\n",
    "\n",
    "    if pilih == 1:\n",
    "        print(angka1,\" + \",angka2,\" = \", jumlah(angka1,angka2))\n",
    "    elif pilih == 2:\n",
    "        print(angka1,\" - \",angka2,\" = \", kurang(angka1,angka2))\n",
    "    elif pilih == 3:\n",
    "        print(angka1,\" * \",angka2,\" = \", kali(angka1,angka2))\n",
    "    elif pilih == 4:\n",
    "        print(angka1,\" / \",angka2,\" = \", bagi(angka1,angka2))\n",
    "    elif pilih == 5:\n",
    "        print(angka1,\" ^ \",angka2,\" = \", pangkat(angka1,angka2))\n",
    "    else:\n",
    "        menu()\n",
    "        \n",
    "    print(\"\")\n",
    "    print(\"\")\n",
    "    \n",
    "    menu()\n",
    "    return\n",
    "\n",
    "    \n",
    "menu()"
   ]
  },
  {
   "cell_type": "code",
   "execution_count": null,
   "metadata": {},
   "outputs": [],
   "source": []
  },
  {
   "cell_type": "code",
   "execution_count": null,
   "metadata": {},
   "outputs": [],
   "source": []
  },
  {
   "cell_type": "code",
   "execution_count": null,
   "metadata": {},
   "outputs": [],
   "source": []
  },
  {
   "cell_type": "code",
   "execution_count": null,
   "metadata": {},
   "outputs": [],
   "source": []
  },
  {
   "cell_type": "code",
   "execution_count": null,
   "metadata": {},
   "outputs": [],
   "source": []
  },
  {
   "cell_type": "code",
   "execution_count": null,
   "metadata": {},
   "outputs": [],
   "source": []
  },
  {
   "cell_type": "code",
   "execution_count": null,
   "metadata": {},
   "outputs": [],
   "source": []
  },
  {
   "cell_type": "code",
   "execution_count": null,
   "metadata": {},
   "outputs": [],
   "source": []
  },
  {
   "cell_type": "code",
   "execution_count": null,
   "metadata": {},
   "outputs": [],
   "source": []
  },
  {
   "cell_type": "code",
   "execution_count": null,
   "metadata": {},
   "outputs": [],
   "source": []
  },
  {
   "cell_type": "code",
   "execution_count": null,
   "metadata": {},
   "outputs": [],
   "source": []
  },
  {
   "cell_type": "code",
   "execution_count": null,
   "metadata": {},
   "outputs": [],
   "source": []
  },
  {
   "cell_type": "code",
   "execution_count": null,
   "metadata": {},
   "outputs": [],
   "source": []
  },
  {
   "cell_type": "code",
   "execution_count": null,
   "metadata": {},
   "outputs": [],
   "source": []
  },
  {
   "cell_type": "code",
   "execution_count": null,
   "metadata": {},
   "outputs": [],
   "source": []
  },
  {
   "cell_type": "code",
   "execution_count": null,
   "metadata": {},
   "outputs": [],
   "source": []
  },
  {
   "cell_type": "code",
   "execution_count": null,
   "metadata": {},
   "outputs": [],
   "source": []
  },
  {
   "cell_type": "code",
   "execution_count": null,
   "metadata": {},
   "outputs": [],
   "source": []
  },
  {
   "cell_type": "code",
   "execution_count": null,
   "metadata": {},
   "outputs": [],
   "source": []
  },
  {
   "cell_type": "code",
   "execution_count": null,
   "metadata": {},
   "outputs": [],
   "source": []
  }
 ],
 "metadata": {
  "kernelspec": {
   "display_name": "Python 3",
   "language": "python",
   "name": "python3"
  },
  "language_info": {
   "codemirror_mode": {
    "name": "ipython",
    "version": 3
   },
   "file_extension": ".py",
   "mimetype": "text/x-python",
   "name": "python",
   "nbconvert_exporter": "python",
   "pygments_lexer": "ipython3",
   "version": "3.8.3"
  }
 },
 "nbformat": 4,
 "nbformat_minor": 4
}
