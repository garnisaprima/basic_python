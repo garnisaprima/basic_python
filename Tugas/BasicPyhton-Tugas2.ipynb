{
 "cells": [
  {
   "cell_type": "code",
   "execution_count": null,
   "metadata": {},
   "outputs": [
    {
     "name": "stdout",
     "output_type": "stream",
     "text": [
      "Selamat datang!\n",
      "\n",
      "\n",
      "---Menu---\n",
      "\n",
      "1. Daftar Kontak\n",
      "2. Tambah Kontak\n",
      "3. Keluar\n",
      "\n"
     ]
    }
   ],
   "source": [
    "nama =[\"Rifa\", \"Ana\", \"Budi\"]\n",
    "telp =[\"085812345\",\"08987654321\",\"0897654332\"]\n",
    "        \n",
    "\n",
    "#Menampilkan kontak yang ada\n",
    "def tampilkankontak():\n",
    "    print(\"Daftar Kontak: \")\n",
    "    for i in range(len(nama)):\n",
    "        print(\"Nama: \", end =\"\")\n",
    "        print(nama[i])\n",
    "        print(\"No Telepon: \", end =\"\")\n",
    "        print(telp[i])\n",
    "        \n",
    "    print(\"\")\n",
    "    menu()\n",
    "    return\n",
    "       \n",
    "def tambahkontak():   \n",
    "    nama.append(input(\"Nama : \"))\n",
    "    telp.append(input(\"No Telepon : \"))\n",
    "    \n",
    "    print(\"\")\n",
    "    print(\"Kontak berhasil ditambahkan\")\n",
    "    print(\"\")\n",
    "    menu()\n",
    "    return\n",
    "\n",
    "def menu():\n",
    "    print(\"---Menu---\")\n",
    "    print(\"\")\n",
    "    print(\"1. Daftar Kontak\")\n",
    "    print(\"2. Tambah Kontak\")\n",
    "    print(\"3. Keluar\")\n",
    "    print(\"\")\n",
    "    pilihan = input(\"Pilih menu: \")\n",
    "    if pilihan == \"1\":\n",
    "        tampilkankontak()\n",
    "    elif pilihan == \"2\":\n",
    "        tambahkontak()\n",
    "    elif pilihan == \"3\":\n",
    "        print(\"Program selesai, sampai jumpa!\")\n",
    "        exit()\n",
    "    else:\n",
    "        print(\"\")\n",
    "        print(\"Menu tidak tersedia\")\n",
    "        print(\"\")\n",
    "        menu()\n",
    "    return\n",
    "    \n",
    "\n",
    "\n",
    "#Program Utama\n",
    "print(\"Selamat datang!\")\n",
    "print(\"\")\n",
    "print(\"\")\n",
    "menu()\n"
   ]
  },
  {
   "cell_type": "code",
   "execution_count": null,
   "metadata": {},
   "outputs": [],
   "source": []
  }
 ],
 "metadata": {
  "kernelspec": {
   "display_name": "Python 3",
   "language": "python",
   "name": "python3"
  },
  "language_info": {
   "codemirror_mode": {
    "name": "ipython",
    "version": 3
   },
   "file_extension": ".py",
   "mimetype": "text/x-python",
   "name": "python",
   "nbconvert_exporter": "python",
   "pygments_lexer": "ipython3",
   "version": "3.8.3"
  }
 },
 "nbformat": 4,
 "nbformat_minor": 4
}
