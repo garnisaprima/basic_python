{
 "cells": [
  {
   "cell_type": "code",
   "execution_count": 6,
   "metadata": {},
   "outputs": [
    {
     "name": "stdout",
     "output_type": "stream",
     "text": [
      "{'nama': 'fawwas', 'umur': 21}\n",
      "Nama: fawwas\n",
      "Umur: 21\n",
      "\n",
      "Nama: fawwas\n",
      "Umur: 22\n",
      "{'nama': 'fawwas', 'umur': 22}\n"
     ]
    }
   ],
   "source": [
    "#Dictionary\n",
    "\n",
    "pelanggan = {\"nama\": \"fawwas\",\"umur\": 21}\n",
    "\n",
    "pelanggan_2 = {\n",
    "    \"nama\": \"andi\",\n",
    "    \"umur\": 18\n",
    "}\n",
    "\n",
    "print(pelanggan)\n",
    "print(\"Nama: {}\".format(pelanggan[\"nama\"]))\n",
    "print(\"Umur: {}\".format(pelanggan[\"umur\"]))\n",
    "\n",
    "#change value of dictionary\n",
    "pelanggan[\"umur\"] = 22\n",
    "print()\n",
    "print(\"Nama: {}\".format(pelanggan[\"nama\"]))\n",
    "print(\"Umur: {}\".format(pelanggan[\"umur\"]))\n",
    "print(pelanggan)\n"
   ]
  },
  {
   "cell_type": "code",
   "execution_count": null,
   "metadata": {},
   "outputs": [],
   "source": []
  },
  {
   "cell_type": "code",
   "execution_count": 5,
   "metadata": {},
   "outputs": [
    {
     "name": "stdout",
     "output_type": "stream",
     "text": [
      "{'Age': 7, 'Class': 'First'}\n"
     ]
    }
   ],
   "source": [
    "#Delete dictionary\n",
    "data = {'Name': 'Zara', 'Age':7, 'Class': 'First'}\n",
    "    \n",
    "del data['Name'] #hapus entry dg key 'Name'\n",
    "#data.clear() # hapus semua entri di dict (isinya)\n",
    "#del data #hapus dictionary yg ada (dictionary yg dibuang)\n",
    "        \n",
    "print(data)\n"
   ]
  },
  {
   "cell_type": "code",
   "execution_count": 14,
   "metadata": {},
   "outputs": [
    {
     "name": "stdout",
     "output_type": "stream",
     "text": [
      "nama\n",
      "fawwas\n",
      "andi\n",
      "\n",
      "umur\n",
      "21\n",
      "18\n",
      "\n",
      "class\n",
      "vip\n",
      "vvip\n",
      "\n"
     ]
    }
   ],
   "source": [
    "#Loop through dictionary\n",
    "pelanggan = {\"nama\": \"fawwas\",\"umur\": 21, \"class\":\"vip\"}\n",
    "\n",
    "pelanggan_2 = {\n",
    "    \"nama\": \"andi\",\n",
    "    \"umur\": 18,\n",
    "    \"class\": \"vvip\"\n",
    "}\n",
    "#x mendefinisikan key\n",
    "for x in pelanggan:\n",
    "    print(x)\n",
    "    print(pelanggan[x])\n",
    "    print(pelanggan_2[x])\n",
    "    print(\"\")\n",
    "    \n"
   ]
  },
  {
   "cell_type": "code",
   "execution_count": 17,
   "metadata": {},
   "outputs": [
    {
     "name": "stdout",
     "output_type": "stream",
     "text": [
      "[{'nama': 'fawwas', 'umur': 21, 'class': 'vip'}, {'nama': 'andi', 'umur': 18, 'class': 'vvip'}]\n",
      "Nama: fawwas\n",
      "Umur: 21\n",
      "Nama: andi\n",
      "Umur: 18\n",
      "\n",
      "[{'nama': 'fawwas', 'umur': 21, 'class': 'vip'}]\n",
      "Nama: fawwas\n",
      "Umur: 21\n"
     ]
    }
   ],
   "source": [
    "#List of dictionary\n",
    "daftar_pelanggan =[]\n",
    "daftar_pelanggan.append(pelanggan)\n",
    "daftar_pelanggan.append(pelanggan_2)\n",
    "\n",
    "print(daftar_pelanggan)\n",
    "\n",
    "\n",
    "for pelanggan in daftar_pelanggan:\n",
    "    print(\"Nama: {}\".format(pelanggan[\"nama\"]))\n",
    "    print(\"Umur: {}\".format(pelanggan[\"umur\"]))\n",
    "    \n",
    "print(\"\")\n",
    "daftar_pelanggan.remove(pelanggan_2)\n",
    "print(daftar_pelanggan)\n",
    "\n",
    "for pelanggan in daftar_pelanggan:\n",
    "    print(\"Nama: {}\".format(pelanggan[\"nama\"]))\n",
    "    print(\"Umur: {}\".format(pelanggan[\"umur\"]))"
   ]
  },
  {
   "cell_type": "code",
   "execution_count": 21,
   "metadata": {},
   "outputs": [
    {
     "name": "stdout",
     "output_type": "stream",
     "text": [
      "Hello from a fnction\n",
      "ini fungsi\n",
      "ini nyoba aja\n",
      "Hello from a fnction\n",
      "ini fungsi\n",
      "ini nyoba aja\n"
     ]
    }
   ],
   "source": [
    "#function untuk memperpendek kodingan\n",
    "\n",
    "#general\n",
    "def my_function():\n",
    "    print(\"Hello from a fnction\")\n",
    "    print(\"ini fungsi\")\n",
    "    print(\"ini nyoba aja\")\n",
    "\n",
    "my_function()\n",
    "my_function()"
   ]
  },
  {
   "cell_type": "code",
   "execution_count": 33,
   "metadata": {},
   "outputs": [
    {
     "data": {
      "text/plain": [
       "6"
      ]
     },
     "execution_count": 33,
     "metadata": {},
     "output_type": "execute_result"
    }
   ],
   "source": [
    "#fungsi dg parameter\n",
    "\n",
    "def luas_persegi(sisi):\n",
    "    luas = sisi * sisi\n",
    "    return luas #return ntuk masukkan ke perhitungan selanjutnya\n",
    "\n",
    "\n",
    "def luaspersegipanjang(panjang, lebar):\n",
    "    luas = panjang * lebar\n",
    "    print(luas)\n",
    "\n",
    "luas_persegi(3)\n",
    "#luaspersegipanjang(3,2)"
   ]
  },
  {
   "cell_type": "code",
   "execution_count": 35,
   "metadata": {},
   "outputs": [
    {
     "data": {
      "text/plain": [
       "8"
      ]
     },
     "execution_count": 35,
     "metadata": {},
     "output_type": "execute_result"
    }
   ],
   "source": [
    "def luas1(sisi):\n",
    "    luas = sisi * sisi\n",
    "    return luas #return ntuk masukkan ke perhitungan selanjutnya\n",
    "\n",
    "def volume(sisi):\n",
    "    volume = luas1(sisi) * sisi\n",
    "    return volume\n",
    "\n",
    "volume(2)"
   ]
  },
  {
   "cell_type": "code",
   "execution_count": 43,
   "metadata": {},
   "outputs": [
    {
     "name": "stdout",
     "output_type": "stream",
     "text": [
      "Masukkan : 3\n",
      "27.0\n"
     ]
    }
   ],
   "source": [
    "sisi = float(input(\"Masukkan : \"))\n",
    "\n",
    "def luas1(sisi):\n",
    "    luas = sisi * sisi\n",
    "    return luas\n",
    "\n",
    "def volume(sisi):\n",
    "    volume = luas1(sisi) * sisi\n",
    "    return volume\n",
    "\n",
    "volume(sisi)\n",
    "print(volume(sisi))"
   ]
  },
  {
   "cell_type": "code",
   "execution_count": null,
   "metadata": {},
   "outputs": [],
   "source": []
  },
  {
   "cell_type": "code",
   "execution_count": null,
   "metadata": {},
   "outputs": [],
   "source": []
  },
  {
   "cell_type": "code",
   "execution_count": null,
   "metadata": {},
   "outputs": [],
   "source": []
  },
  {
   "cell_type": "code",
   "execution_count": null,
   "metadata": {},
   "outputs": [],
   "source": []
  },
  {
   "cell_type": "code",
   "execution_count": null,
   "metadata": {},
   "outputs": [],
   "source": []
  },
  {
   "cell_type": "code",
   "execution_count": null,
   "metadata": {},
   "outputs": [],
   "source": []
  },
  {
   "cell_type": "code",
   "execution_count": null,
   "metadata": {},
   "outputs": [],
   "source": []
  },
  {
   "cell_type": "code",
   "execution_count": null,
   "metadata": {},
   "outputs": [],
   "source": [
    "#import file untuk fungsi --> import"
   ]
  },
  {
   "cell_type": "code",
   "execution_count": null,
   "metadata": {},
   "outputs": [],
   "source": []
  },
  {
   "cell_type": "code",
   "execution_count": null,
   "metadata": {},
   "outputs": [],
   "source": []
  },
  {
   "cell_type": "code",
   "execution_count": null,
   "metadata": {},
   "outputs": [],
   "source": []
  },
  {
   "cell_type": "code",
   "execution_count": null,
   "metadata": {},
   "outputs": [],
   "source": []
  },
  {
   "cell_type": "code",
   "execution_count": null,
   "metadata": {},
   "outputs": [],
   "source": []
  },
  {
   "cell_type": "code",
   "execution_count": null,
   "metadata": {},
   "outputs": [],
   "source": []
  },
  {
   "cell_type": "code",
   "execution_count": null,
   "metadata": {},
   "outputs": [],
   "source": []
  },
  {
   "cell_type": "code",
   "execution_count": null,
   "metadata": {},
   "outputs": [],
   "source": []
  },
  {
   "cell_type": "code",
   "execution_count": null,
   "metadata": {},
   "outputs": [],
   "source": []
  },
  {
   "cell_type": "code",
   "execution_count": null,
   "metadata": {},
   "outputs": [],
   "source": []
  },
  {
   "cell_type": "code",
   "execution_count": null,
   "metadata": {},
   "outputs": [],
   "source": []
  },
  {
   "cell_type": "code",
   "execution_count": null,
   "metadata": {},
   "outputs": [],
   "source": []
  },
  {
   "cell_type": "code",
   "execution_count": null,
   "metadata": {},
   "outputs": [],
   "source": []
  },
  {
   "cell_type": "code",
   "execution_count": null,
   "metadata": {},
   "outputs": [],
   "source": []
  },
  {
   "cell_type": "code",
   "execution_count": null,
   "metadata": {},
   "outputs": [],
   "source": []
  },
  {
   "cell_type": "code",
   "execution_count": null,
   "metadata": {},
   "outputs": [],
   "source": []
  },
  {
   "cell_type": "code",
   "execution_count": null,
   "metadata": {},
   "outputs": [],
   "source": []
  },
  {
   "cell_type": "code",
   "execution_count": null,
   "metadata": {},
   "outputs": [],
   "source": []
  },
  {
   "cell_type": "code",
   "execution_count": null,
   "metadata": {},
   "outputs": [],
   "source": []
  },
  {
   "cell_type": "code",
   "execution_count": null,
   "metadata": {},
   "outputs": [],
   "source": []
  },
  {
   "cell_type": "code",
   "execution_count": null,
   "metadata": {},
   "outputs": [],
   "source": []
  },
  {
   "cell_type": "code",
   "execution_count": null,
   "metadata": {},
   "outputs": [],
   "source": []
  },
  {
   "cell_type": "code",
   "execution_count": null,
   "metadata": {},
   "outputs": [],
   "source": []
  },
  {
   "cell_type": "code",
   "execution_count": null,
   "metadata": {},
   "outputs": [],
   "source": []
  },
  {
   "cell_type": "code",
   "execution_count": null,
   "metadata": {},
   "outputs": [],
   "source": []
  },
  {
   "cell_type": "code",
   "execution_count": null,
   "metadata": {},
   "outputs": [],
   "source": []
  }
 ],
 "metadata": {
  "kernelspec": {
   "display_name": "Python 3",
   "language": "python",
   "name": "python3"
  },
  "language_info": {
   "codemirror_mode": {
    "name": "ipython",
    "version": 3
   },
   "file_extension": ".py",
   "mimetype": "text/x-python",
   "name": "python",
   "nbconvert_exporter": "python",
   "pygments_lexer": "ipython3",
   "version": "3.8.3"
  }
 },
 "nbformat": 4,
 "nbformat_minor": 4
}
