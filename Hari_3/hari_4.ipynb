{
 "cells": [
  {
   "cell_type": "code",
   "execution_count": 1,
   "metadata": {},
   "outputs": [
    {
     "name": "stdout",
     "output_type": "stream",
     "text": [
      "Nilai minimum 30\n",
      "Nilai ujian teori :303\n",
      "Nilai ujian praktek :30\n",
      "Selamat, anda lulus!\n",
      "\n",
      "\n"
     ]
    }
   ],
   "source": [
    "nilai_minimum = float(input(\"Nilai minimum \"))\n",
    "a = float(input(\"Nilai ujian teori :\"))\n",
    "b = float(input(\"Nilai ujian praktek :\"))\n",
    "\n",
    "if a >= nilai_minimum and b >= nilai_minimum:\n",
    "    print(\"Selamat, anda lulus!\")\n",
    "elif a >= nilai_minimum and b < nilai_minimum:\n",
    "    print(\"Anda harus mengulang ujian praktek.\")  \n",
    "elif a < nilai_minimum and b >= nilai_minimum:\n",
    "    print(\"Anda harus mengulang ujian teori.\")\n",
    "else:\n",
    "    print(\"Anda harus mengulang ujian teori dan praktek.\")\n",
    "    \n",
    "print(\"\")\n",
    "print(\"\")"
   ]
  },
  {
   "cell_type": "code",
   "execution_count": 2,
   "metadata": {},
   "outputs": [
    {
     "name": "stdout",
     "output_type": "stream",
     "text": [
      "[1, 2, 3, 100]\n",
      "4\n",
      "100\n",
      "[1, 2, 3, 100]\n",
      "2\n",
      "Value: 1\n",
      "Value: 2\n",
      "Value: 3\n",
      "Value: 100\n"
     ]
    }
   ],
   "source": [
    "#LIST\n",
    "\n",
    "mylist = []\n",
    "mylist.append(1)\n",
    "mylist.append(2)\n",
    "mylist.append(3)\n",
    "mylist.append(100)\n",
    "\n",
    "print(mylist)\n",
    "#panjang list\n",
    "print(len(mylist))\n",
    "print(mylist[3])\n",
    "\n",
    "mylist2 =[]\n",
    "mylist2.append(\"a\")\n",
    "mylist2.append(\"b\")\n",
    "\n",
    "print(mylist)\n",
    "print(len(mylist2))\n",
    "\n",
    "for x in mylist:\n",
    "    print(\"Value: \" + str(x))"
   ]
  },
  {
   "cell_type": "code",
   "execution_count": 8,
   "metadata": {},
   "outputs": [
    {
     "ename": "SyntaxError",
     "evalue": "invalid syntax (<ipython-input-8-9240ffe4ed62>, line 11)",
     "output_type": "error",
     "traceback": [
      "\u001b[1;36m  File \u001b[1;32m\"<ipython-input-8-9240ffe4ed62>\"\u001b[1;36m, line \u001b[1;32m11\u001b[0m\n\u001b[1;33m    nama = input(\"Nama :\")\u001b[0m\n\u001b[1;37m    ^\u001b[0m\n\u001b[1;31mSyntaxError\u001b[0m\u001b[1;31m:\u001b[0m invalid syntax\n"
     ]
    }
   ],
   "source": [
    "#KASUS\n",
    "a = int(input(\"Berapa data pelanggan :\"))        \n",
    "nama_pelanggan = []\n",
    "umur_pelanggan = []\n",
    "print(\"\")\n",
    "print(\"Masukkan data pelanggan\")\n",
    "print(\"\")\n",
    "\n",
    "for x in range(a):\n",
    "    print(\"Pelanggan ke ()\".format(x+1)\n",
    "    nama = input(\"Nama :\")\n",
    "    umur = int(input(\"Umur :\"))\n",
    "    \n",
    "    nama_pelanggan.append(nama)\n",
    "    umur_pelanggan.append(umur)\n",
    "\n",
    "print(\"\")\n",
    "print(\"Pelanggan yang terdaftar adalah :\")\n",
    "print(\"\")\n",
    "\n",
    "for i in range(len(nama_pelanggan)):\n",
    "    print(\"Pelanggan () berumur ()\".format(nama_pelanggan[i], umur_pelanggan[i]))"
   ]
  },
  {
   "cell_type": "code",
   "execution_count": null,
   "metadata": {},
   "outputs": [],
   "source": []
  },
  {
   "cell_type": "code",
   "execution_count": null,
   "metadata": {},
   "outputs": [],
   "source": []
  },
  {
   "cell_type": "code",
   "execution_count": null,
   "metadata": {},
   "outputs": [],
   "source": []
  },
  {
   "cell_type": "code",
   "execution_count": null,
   "metadata": {},
   "outputs": [],
   "source": []
  },
  {
   "cell_type": "code",
   "execution_count": null,
   "metadata": {},
   "outputs": [],
   "source": []
  },
  {
   "cell_type": "code",
   "execution_count": null,
   "metadata": {},
   "outputs": [],
   "source": []
  },
  {
   "cell_type": "code",
   "execution_count": null,
   "metadata": {},
   "outputs": [],
   "source": []
  },
  {
   "cell_type": "code",
   "execution_count": null,
   "metadata": {},
   "outputs": [],
   "source": []
  },
  {
   "cell_type": "code",
   "execution_count": null,
   "metadata": {},
   "outputs": [],
   "source": []
  },
  {
   "cell_type": "code",
   "execution_count": null,
   "metadata": {},
   "outputs": [],
   "source": []
  },
  {
   "cell_type": "code",
   "execution_count": null,
   "metadata": {},
   "outputs": [],
   "source": []
  },
  {
   "cell_type": "code",
   "execution_count": null,
   "metadata": {},
   "outputs": [],
   "source": []
  },
  {
   "cell_type": "code",
   "execution_count": null,
   "metadata": {},
   "outputs": [],
   "source": []
  },
  {
   "cell_type": "code",
   "execution_count": null,
   "metadata": {},
   "outputs": [],
   "source": []
  },
  {
   "cell_type": "code",
   "execution_count": null,
   "metadata": {},
   "outputs": [],
   "source": []
  },
  {
   "cell_type": "code",
   "execution_count": null,
   "metadata": {},
   "outputs": [],
   "source": []
  },
  {
   "cell_type": "code",
   "execution_count": null,
   "metadata": {},
   "outputs": [],
   "source": []
  },
  {
   "cell_type": "code",
   "execution_count": null,
   "metadata": {},
   "outputs": [],
   "source": []
  },
  {
   "cell_type": "code",
   "execution_count": null,
   "metadata": {},
   "outputs": [],
   "source": []
  },
  {
   "cell_type": "code",
   "execution_count": null,
   "metadata": {},
   "outputs": [],
   "source": []
  },
  {
   "cell_type": "code",
   "execution_count": null,
   "metadata": {},
   "outputs": [],
   "source": []
  },
  {
   "cell_type": "code",
   "execution_count": null,
   "metadata": {},
   "outputs": [],
   "source": []
  },
  {
   "cell_type": "code",
   "execution_count": null,
   "metadata": {},
   "outputs": [],
   "source": []
  },
  {
   "cell_type": "code",
   "execution_count": null,
   "metadata": {},
   "outputs": [],
   "source": []
  }
 ],
 "metadata": {
  "kernelspec": {
   "display_name": "Python 3",
   "language": "python",
   "name": "python3"
  },
  "language_info": {
   "codemirror_mode": {
    "name": "ipython",
    "version": 3
   },
   "file_extension": ".py",
   "mimetype": "text/x-python",
   "name": "python",
   "nbconvert_exporter": "python",
   "pygments_lexer": "ipython3",
   "version": "3.8.3"
  }
 },
 "nbformat": 4,
 "nbformat_minor": 4
}
